{
 "cells": [
  {
   "cell_type": "markdown",
   "metadata": {},
   "source": [
    "<img src=\"../Imagenes/portada.jpg\">"
   ]
  },
  {
   "cell_type": "markdown",
   "metadata": {},
   "source": [
    "# Proyecto Web - NFL"
   ]
  },
  {
   "cell_type": "markdown",
   "metadata": {
    "heading_collapsed": true
   },
   "source": [
    "## Descripción del proyecto"
   ]
  },
  {
   "cell_type": "markdown",
   "metadata": {
    "hidden": true
   },
   "source": [
    "Hay muchas columnas que elimino del data set por resultar poco interesantes (y porque la RAM no me da)."
   ]
  },
  {
   "cell_type": "markdown",
   "metadata": {
    "hidden": true
   },
   "source": [
    "Compararemos las estadisticas de juego con las de delitos cometidos por los jugadores de la NFL."
   ]
  },
  {
   "cell_type": "code",
   "execution_count": 1,
   "metadata": {
    "ExecuteTime": {
     "end_time": "2020-02-20T15:46:45.772903Z",
     "start_time": "2020-02-20T15:46:42.642648Z"
    },
    "hidden": true
   },
   "outputs": [],
   "source": [
    "#Librerias\n",
    "import numpy as np\n",
    "import pandas as pd\n",
    "import re\n",
    "import http.client\n",
    "import requests\n",
    "import urllib,json\n",
    "from pandas.io.json import json_normalize\n",
    "from bs4 import BeautifulSoup\n",
    "import ipywidgets as widgets\n",
    "from IPython.display import display\n",
    "from ipywidgets import interact, interact_manual"
   ]
  },
  {
   "cell_type": "markdown",
   "metadata": {
    "heading_collapsed": true,
    "hidden": true
   },
   "source": [
    "### Estrategia"
   ]
  },
  {
   "cell_type": "code",
   "execution_count": 53,
   "metadata": {
    "ExecuteTime": {
     "end_time": "2020-02-20T16:31:53.714934Z",
     "start_time": "2020-02-20T16:31:53.687763Z"
    },
    "hidden": true
   },
   "outputs": [],
   "source": [
    "#Funciones\n",
    "def soups (url):\n",
    "    \"\"\"\n",
    "    **************************************\n",
    "    Llama a la url y le pasa BeautifulSoup\n",
    "    **************************************\n",
    "    \"\"\"\n",
    "    html = requests.get(url).content\n",
    "    soup = BeautifulSoup(html, \"lxml\")\n",
    "    return soup\n",
    "\n",
    "def requestAPIs (url):\n",
    "    \"\"\"\n",
    "    ***************************************\n",
    "    Llama a la url de la API y normaliza el\n",
    "    JSON\n",
    "    ***************************************\n",
    "    \"\"\"\n",
    "    headers = {'User-agent': 'Mozilla/5.0 (Macintosh; Intel Mac OS X 10_15_2) AppleWebKit/537.36 (KHTML, like Gecko) Chrome/79.0.3945.130 Safari/537.36'}\n",
    "    request = requests.get(url, headers = headers)\n",
    "    result = request.json()\n",
    "    data = json_normalize(result)\n",
    "    return data\n",
    "\n",
    "def clean (words):\n",
    "    \n",
    "    \"\"\"\n",
    "    ****************************************************\n",
    "    Función para limpiar la información,\n",
    "    pasar la primera a mayúculas y el resto a minúscula,\n",
    "    eliminaremos espacios innecesarios, el resto serán\n",
    "    sustituidos por '_', igual que otros elementos de\n",
    "    puntuación?\n",
    "    \n",
    "    Input : lista\n",
    "    Output : lista\n",
    "    ****************************************************\n",
    "    \n",
    "    \"\"\"\n",
    "    c = []\n",
    "    for word in words:\n",
    "        word = str(word).lower()\n",
    "        word = word.strip()\n",
    "        word = word.replace(\".\", ' ')\n",
    "        word = word.replace(\" \", '_')\n",
    "        word = word.replace(\":\", '_')\n",
    "        word = word.replace(\"__\", '_')\n",
    "        word = word.replace (\"/\", \"\")\n",
    "        word = word.replace (\"?\", \"\")\n",
    "        word = word.replace (\"(\", \"\")\n",
    "        word = word.replace (\")\", \"\")\n",
    "        \n",
    "        c.append (word)\n",
    "    return c\n",
    "\n",
    "def change_names (list1, list2):\n",
    "    \n",
    "    \"\"\"\n",
    "    *****************************************\n",
    "    Convierte a diccionario dos listas dadas\n",
    "    *****************************************\n",
    "    \"\"\"\n",
    "    \n",
    "    dictchange = dict(zip(list(list1), list(list2)))\n",
    "    return dictchange\n",
    "\n",
    "def players_stats(url):\n",
    "    \n",
    "    \"\"\"\n",
    "    **************************************************\n",
    "    Con esta función extraigo la tabla de estadísticas\n",
    "    generales de la web de la NFL.\n",
    "    ¡Está por optimizar!\n",
    "    **************************************************\n",
    "    \"\"\"\n",
    "    #Paso la función 'soups'\n",
    "    soup = soups(url)\n",
    "    table = soup.find_all('div',{'id': 'player-stats-wrapper'})[0]\n",
    "    text = [element.text.strip().split(\"\\n\") for element in table.find_all('tr')]\n",
    "    rows = [list(filter(None, row))for row in text]\n",
    "    #Nombro las columnas para poder llamarlas luego y eliminar los None que aparecen\n",
    "    df = pd.DataFrame(rows, columns = ['a0','a1', 'a2', 'a3', 'a4','a5', 'a6', 'a7', 'a8',\n",
    "                                      'a9', 'a10', 'a11', 'a12','a13', 'a14', 'a15', 'a16',\n",
    "                                      'a17', 'a18', 'a19'])\n",
    "\n",
    "    #Seguro que todos estos drops se pueden hacer de forma más efectiva.\n",
    "    df = df.drop(['a3', 'a5', 'a6', 'a7'], axis=1)\n",
    "    df = df.drop_duplicates()\n",
    "    #La 4ta fila me sale con Nones.\n",
    "    df = df.drop(4, axis= 0)\n",
    "    #Con esto elimino las filas superiores que no tienen info y la última\n",
    "    df = df[3:-1]\n",
    "    colnames = ['Season','Team','G','GS','Comb',\n",
    "                'Total','Ast','Sck','SFTY','PDef',\n",
    "                'Int','Yds','Avg', 'Lng', 'TDs','FF']\n",
    "    #Paso las funciones 'clean' y 'change_names' para los cambios de nombre\n",
    "    df = df.rename(columns = change_names(df.columns, clean(colnames)))\n",
    "\n",
    "    df.gs = [re.sub(\"\\t\",\"\", i) for i in df.gs]\n",
    "    \n",
    "    return df"
   ]
  },
  {
   "cell_type": "markdown",
   "metadata": {},
   "source": [
    "## API NFLArrest"
   ]
  },
  {
   "cell_type": "markdown",
   "metadata": {
    "ExecuteTime": {
     "end_time": "2020-02-16T15:18:18.581922Z",
     "start_time": "2020-02-16T15:18:18.573742Z"
    },
    "heading_collapsed": true
   },
   "source": [
    "### Jugadores"
   ]
  },
  {
   "cell_type": "markdown",
   "metadata": {
    "hidden": true
   },
   "source": [
    "API con información relacionada con los arrestos a los jugadores de la NFL. Para más información se puede consultar toda la documentación <a href=\"http://nflarrest.com/api/\">aquí</a>."
   ]
  },
  {
   "cell_type": "markdown",
   "metadata": {
    "ExecuteTime": {
     "end_time": "2020-02-16T09:11:45.161061Z",
     "start_time": "2020-02-16T09:11:45.135717Z"
    },
    "hidden": true
   },
   "source": [
    "Usaremos la función creada para hacer las consultas a la API."
   ]
  },
  {
   "cell_type": "code",
   "execution_count": 10,
   "metadata": {
    "ExecuteTime": {
     "end_time": "2020-02-20T15:49:38.754405Z",
     "start_time": "2020-02-20T15:49:37.842676Z"
    },
    "hidden": true
   },
   "outputs": [],
   "source": [
    "url=\"http://nflarrest.com/api/v1/player\"\n",
    "NFL_players = requestAPIs(url)"
   ]
  },
  {
   "cell_type": "markdown",
   "metadata": {
    "hidden": true
   },
   "source": [
    "Sacaremos un primer listado con todos los jugadores que han cometido algún delito. \n",
    "Este JSON nos da información sobre:\n",
    " * <CODE>'Name'</CODE>, nombre completo del jugador.\n",
    " * <CODE>'Team'</CODE>, siglas del equipo.\n",
    " * <CODE>'Team_name'</CODE>, nombre completo del equipo.\n",
    " * <CODE>'Team_city'</CODE>, ciudad del equipo.\n",
    " * <CODE>'Position'</CODE>, posisición,\n",
    " * <CODE>'arrest_count'</CODE>, arrestos acumulados.\n",
    " \n",
    "Vemos que los nombres de los encabezados varían ligeramente. Usaremos la función del anterior proyecto para unificarlos."
   ]
  },
  {
   "cell_type": "code",
   "execution_count": 11,
   "metadata": {
    "ExecuteTime": {
     "end_time": "2020-02-20T15:49:39.714643Z",
     "start_time": "2020-02-20T15:49:39.706033Z"
    },
    "hidden": true
   },
   "outputs": [],
   "source": [
    "#Renombramos columnas\n",
    "NFL_players = NFL_players.rename(columns = change_names(NFL_players.columns, clean(NFL_players.columns)))"
   ]
  },
  {
   "cell_type": "code",
   "execution_count": 12,
   "metadata": {
    "ExecuteTime": {
     "end_time": "2020-02-20T15:49:40.479287Z",
     "start_time": "2020-02-20T15:49:40.455176Z"
    },
    "hidden": true
   },
   "outputs": [
    {
     "data": {
      "text/html": [
       "<div>\n",
       "<style scoped>\n",
       "    .dataframe tbody tr th:only-of-type {\n",
       "        vertical-align: middle;\n",
       "    }\n",
       "\n",
       "    .dataframe tbody tr th {\n",
       "        vertical-align: top;\n",
       "    }\n",
       "\n",
       "    .dataframe thead th {\n",
       "        text-align: right;\n",
       "    }\n",
       "</style>\n",
       "<table border=\"1\" class=\"dataframe\">\n",
       "  <thead>\n",
       "    <tr style=\"text-align: right;\">\n",
       "      <th></th>\n",
       "      <th>name</th>\n",
       "      <th>team</th>\n",
       "      <th>team_name</th>\n",
       "      <th>team_city</th>\n",
       "      <th>position</th>\n",
       "      <th>arrest_count</th>\n",
       "    </tr>\n",
       "  </thead>\n",
       "  <tbody>\n",
       "    <tr>\n",
       "      <td>0</td>\n",
       "      <td>Kenny Britt</td>\n",
       "      <td>TEN</td>\n",
       "      <td>Titans</td>\n",
       "      <td>Nashville</td>\n",
       "      <td>WR</td>\n",
       "      <td>7</td>\n",
       "    </tr>\n",
       "    <tr>\n",
       "      <td>1</td>\n",
       "      <td>Adam Jones</td>\n",
       "      <td>TEN</td>\n",
       "      <td>Titans</td>\n",
       "      <td>Nashville</td>\n",
       "      <td>CB</td>\n",
       "      <td>6</td>\n",
       "    </tr>\n",
       "    <tr>\n",
       "      <td>2</td>\n",
       "      <td>Chris Henry</td>\n",
       "      <td>CIN</td>\n",
       "      <td>Bengals</td>\n",
       "      <td>Cincinnati</td>\n",
       "      <td>WR</td>\n",
       "      <td>6</td>\n",
       "    </tr>\n",
       "    <tr>\n",
       "      <td>3</td>\n",
       "      <td>Aldon Smith</td>\n",
       "      <td>SF</td>\n",
       "      <td>49ers</td>\n",
       "      <td>San Francisco</td>\n",
       "      <td>LB</td>\n",
       "      <td>5</td>\n",
       "    </tr>\n",
       "    <tr>\n",
       "      <td>4</td>\n",
       "      <td>Fred Davis</td>\n",
       "      <td>WAS</td>\n",
       "      <td>Redskins</td>\n",
       "      <td>Washington DC</td>\n",
       "      <td>TE</td>\n",
       "      <td>4</td>\n",
       "    </tr>\n",
       "    <tr>\n",
       "      <td>...</td>\n",
       "      <td>...</td>\n",
       "      <td>...</td>\n",
       "      <td>...</td>\n",
       "      <td>...</td>\n",
       "      <td>...</td>\n",
       "      <td>...</td>\n",
       "    </tr>\n",
       "    <tr>\n",
       "      <td>106</td>\n",
       "      <td>Mike Nattiel</td>\n",
       "      <td>MIN</td>\n",
       "      <td>Vikings</td>\n",
       "      <td>Minneapolis</td>\n",
       "      <td>LB</td>\n",
       "      <td>2</td>\n",
       "    </tr>\n",
       "    <tr>\n",
       "      <td>107</td>\n",
       "      <td>William Moore</td>\n",
       "      <td>ATL</td>\n",
       "      <td>Falcons</td>\n",
       "      <td>Atlanta</td>\n",
       "      <td>S</td>\n",
       "      <td>2</td>\n",
       "    </tr>\n",
       "    <tr>\n",
       "      <td>108</td>\n",
       "      <td>Shaun Phillips</td>\n",
       "      <td>LAC</td>\n",
       "      <td>Chargers</td>\n",
       "      <td>Los Angeles</td>\n",
       "      <td>LB</td>\n",
       "      <td>2</td>\n",
       "    </tr>\n",
       "    <tr>\n",
       "      <td>109</td>\n",
       "      <td>Kevin Faulk</td>\n",
       "      <td>NE</td>\n",
       "      <td>Patriots</td>\n",
       "      <td>Boston</td>\n",
       "      <td>RB</td>\n",
       "      <td>2</td>\n",
       "    </tr>\n",
       "    <tr>\n",
       "      <td>110</td>\n",
       "      <td>Stacey Mack</td>\n",
       "      <td>JAC</td>\n",
       "      <td>Jaguars</td>\n",
       "      <td>Jacksonville</td>\n",
       "      <td>RB</td>\n",
       "      <td>2</td>\n",
       "    </tr>\n",
       "  </tbody>\n",
       "</table>\n",
       "<p>111 rows × 6 columns</p>\n",
       "</div>"
      ],
      "text/plain": [
       "               name team team_name      team_city position arrest_count\n",
       "0       Kenny Britt  TEN    Titans      Nashville       WR            7\n",
       "1        Adam Jones  TEN    Titans      Nashville       CB            6\n",
       "2       Chris Henry  CIN   Bengals     Cincinnati       WR            6\n",
       "3       Aldon Smith   SF     49ers  San Francisco       LB            5\n",
       "4        Fred Davis  WAS  Redskins  Washington DC       TE            4\n",
       "..              ...  ...       ...            ...      ...          ...\n",
       "106    Mike Nattiel  MIN   Vikings    Minneapolis       LB            2\n",
       "107   William Moore  ATL   Falcons        Atlanta        S            2\n",
       "108  Shaun Phillips  LAC  Chargers    Los Angeles       LB            2\n",
       "109     Kevin Faulk   NE  Patriots         Boston       RB            2\n",
       "110     Stacey Mack  JAC   Jaguars   Jacksonville       RB            2\n",
       "\n",
       "[111 rows x 6 columns]"
      ]
     },
     "execution_count": 12,
     "metadata": {},
     "output_type": "execute_result"
    }
   ],
   "source": [
    "NFL_players"
   ]
  },
  {
   "cell_type": "markdown",
   "metadata": {
    "hidden": true
   },
   "source": [
    "Hay un total de 111 jugadores que han comitido algún delito."
   ]
  },
  {
   "cell_type": "code",
   "execution_count": 16,
   "metadata": {
    "ExecuteTime": {
     "end_time": "2020-02-20T15:52:16.436791Z",
     "start_time": "2020-02-20T15:52:15.741099Z"
    },
    "hidden": true
   },
   "outputs": [
    {
     "data": {
      "application/vnd.jupyter.widget-view+json": {
       "model_id": "b4becc56ec7e4e6e89375d1222c05836",
       "version_major": 2,
       "version_minor": 0
      },
      "text/plain": [
       "interactive(children=(Dropdown(description='column', options=('name', 'team', 'team_name', 'team_city', 'posit…"
      ]
     },
     "metadata": {},
     "output_type": "display_data"
    }
   ],
   "source": [
    "@interact\n",
    "# El @interact es necesario para que funcione.\n",
    "def describe(column=list(NFL_players.columns)):\n",
    "    \n",
    "    \"\"\"\n",
    "    ********************************************\n",
    "    Con esta función creamos un desplegable, al \n",
    "    seleccionar una de las columnas nos devolverá\n",
    "    los datos agregados\n",
    "    *********************************************\n",
    "    \"\"\"\n",
    "    \n",
    "    print(NFL_players[column].describe())"
   ]
  },
  {
   "cell_type": "markdown",
   "metadata": {
    "heading_collapsed": true
   },
   "source": [
    "### Equipos"
   ]
  },
  {
   "cell_type": "code",
   "execution_count": 17,
   "metadata": {
    "ExecuteTime": {
     "end_time": "2020-02-20T15:59:08.585746Z",
     "start_time": "2020-02-20T15:59:08.578250Z"
    },
    "hidden": true
   },
   "outputs": [],
   "source": [
    "teams = list(pd.unique(NFL_players['team']))"
   ]
  },
  {
   "cell_type": "code",
   "execution_count": 18,
   "metadata": {
    "ExecuteTime": {
     "end_time": "2020-02-20T15:59:49.440132Z",
     "start_time": "2020-02-20T15:59:09.209567Z"
    },
    "hidden": true
   },
   "outputs": [],
   "source": [
    "lst = []\n",
    "\n",
    "# Your code\n",
    "for i in teams:\n",
    "    #Asignamos a una variable un iterador que vaya aumentando hasta llegar al total de equipos de la API.\n",
    "    #Luego la pasamos en la url para que vaya sacando la información de todas las páginas\n",
    "    url = \"http://nflarrest.com/api/v1/team/arrests/\"\n",
    "    url = (url+i)\n",
    "    data = requestAPIs(url)\n",
    "    lst.append(data)\n",
    "    \n",
    "NFL_teams = pd.concat(lst, sort= False, ignore_index = True)\n",
    "\n",
    "#Renombramos las columnas\n",
    "NFL_teams = NFL_teams.rename(columns = change_names(NFL_teams.columns, clean(NFL_teams.columns)))"
   ]
  },
  {
   "cell_type": "code",
   "execution_count": 19,
   "metadata": {
    "ExecuteTime": {
     "end_time": "2020-02-20T15:59:51.572734Z",
     "start_time": "2020-02-20T15:59:51.561075Z"
    },
    "hidden": true
   },
   "outputs": [
    {
     "data": {
      "text/plain": [
       "Index(['arrest_stats_id', 'date', 'team', 'team_name', 'team_preffered_name',\n",
       "       'team_city', 'team_logo_id', 'team_conference', 'team_division',\n",
       "       'team_conference_division', 'team_hex_color', 'team_hex_alt_color',\n",
       "       'reddit_group_id', 'name', 'position', 'position_name', 'position_type',\n",
       "       'encounter', 'category', 'crime_category', 'crime_category_color',\n",
       "       'description', 'outcome', 'season', 'arrestseasonstate',\n",
       "       'overall_category_id', 'general_category_id', 'legal_level_id',\n",
       "       'resolution_category_id', 'year', 'month', 'day', 'day_of_week',\n",
       "       'day_of_week_int', 'yeartodate', 'dayssince', 'daystolastarrest',\n",
       "       'daystolastcrimearrest', 'daystolastteamarrest'],\n",
       "      dtype='object')"
      ]
     },
     "execution_count": 19,
     "metadata": {},
     "output_type": "execute_result"
    }
   ],
   "source": [
    "NFL_teams.columns"
   ]
  },
  {
   "cell_type": "markdown",
   "metadata": {
    "heading_collapsed": true
   },
   "source": [
    "### Crimenes por jugador"
   ]
  },
  {
   "cell_type": "markdown",
   "metadata": {
    "hidden": true
   },
   "source": [
    "Extraemos los nombres únicos de la primera tabla y los pasamos al formato adecuado para poderlos usar en la iteración."
   ]
  },
  {
   "cell_type": "code",
   "execution_count": 20,
   "metadata": {
    "ExecuteTime": {
     "end_time": "2020-02-20T15:59:53.677182Z",
     "start_time": "2020-02-20T15:59:53.666806Z"
    },
    "hidden": true
   },
   "outputs": [],
   "source": [
    "names = pd.unique(NFL_teams['name'])\n",
    "names = [i.replace(\" \", \"%20\") for i in names]"
   ]
  },
  {
   "cell_type": "code",
   "execution_count": 21,
   "metadata": {
    "ExecuteTime": {
     "end_time": "2020-02-20T16:10:41.266381Z",
     "start_time": "2020-02-20T15:59:55.811861Z"
    },
    "hidden": true
   },
   "outputs": [],
   "source": [
    "lst = []\n",
    "for i in names:\n",
    "    # Asignamos a una variable un iterador que vaya aumentando hasta \n",
    "    # llegar al total de jugadores que han cometido delitos de la API.\n",
    "    # Luego la pasamos en la url para que vaya sacando la información de todas las páginas.\n",
    "    url = \"http://nflarrest.com/api/v1/player/arrests/\"\n",
    "    url = (url+i)\n",
    "    data = requestAPIs(url)\n",
    "    lst.append(data)"
   ]
  },
  {
   "cell_type": "code",
   "execution_count": 22,
   "metadata": {
    "ExecuteTime": {
     "end_time": "2020-02-20T16:11:00.848935Z",
     "start_time": "2020-02-20T16:11:00.766476Z"
    },
    "hidden": true
   },
   "outputs": [],
   "source": [
    "NFLplayers_arrest = pd.concat(lst, sort= False, ignore_index = True)\n",
    "NFLplayers_arrest = NFLplayers_arrest.rename(columns = change_names\n",
    "                                             (NFLplayers_arrest.columns, clean(NFLplayers_arrest.columns)))"
   ]
  },
  {
   "cell_type": "code",
   "execution_count": 60,
   "metadata": {
    "ExecuteTime": {
     "end_time": "2020-02-20T16:51:37.566191Z",
     "start_time": "2020-02-20T16:51:37.530716Z"
    },
    "hidden": true
   },
   "outputs": [
    {
     "data": {
      "text/html": [
       "<div>\n",
       "<style scoped>\n",
       "    .dataframe tbody tr th:only-of-type {\n",
       "        vertical-align: middle;\n",
       "    }\n",
       "\n",
       "    .dataframe tbody tr th {\n",
       "        vertical-align: top;\n",
       "    }\n",
       "\n",
       "    .dataframe thead th {\n",
       "        text-align: right;\n",
       "    }\n",
       "</style>\n",
       "<table border=\"1\" class=\"dataframe\">\n",
       "  <thead>\n",
       "    <tr style=\"text-align: right;\">\n",
       "      <th></th>\n",
       "      <th>arrest_stats_id</th>\n",
       "      <th>date</th>\n",
       "      <th>team</th>\n",
       "      <th>team_name</th>\n",
       "      <th>team_preffered_name</th>\n",
       "      <th>team_city</th>\n",
       "      <th>team_logo_id</th>\n",
       "      <th>team_conference</th>\n",
       "      <th>team_division</th>\n",
       "      <th>team_conference_division</th>\n",
       "      <th>...</th>\n",
       "      <th>year</th>\n",
       "      <th>month</th>\n",
       "      <th>day</th>\n",
       "      <th>day_of_week</th>\n",
       "      <th>day_of_week_int</th>\n",
       "      <th>yeartodate</th>\n",
       "      <th>dayssince</th>\n",
       "      <th>daystolastarrest</th>\n",
       "      <th>daystolastcrimearrest</th>\n",
       "      <th>daystolastteamarrest</th>\n",
       "    </tr>\n",
       "  </thead>\n",
       "  <tbody>\n",
       "    <tr>\n",
       "      <td>0</td>\n",
       "      <td>803</td>\n",
       "      <td>2015-09-30</td>\n",
       "      <td>TEN</td>\n",
       "      <td>Titans</td>\n",
       "      <td>Tennessee Titans</td>\n",
       "      <td>Nashville</td>\n",
       "      <td>31</td>\n",
       "      <td>AFC</td>\n",
       "      <td>South</td>\n",
       "      <td>AFC South</td>\n",
       "      <td>...</td>\n",
       "      <td>2015</td>\n",
       "      <td>9</td>\n",
       "      <td>30</td>\n",
       "      <td>Wednesday</td>\n",
       "      <td>4</td>\n",
       "      <td>0</td>\n",
       "      <td>1603</td>\n",
       "      <td>35</td>\n",
       "      <td>341</td>\n",
       "      <td>72</td>\n",
       "    </tr>\n",
       "    <tr>\n",
       "      <td>1</td>\n",
       "      <td>3</td>\n",
       "      <td>2015-07-20</td>\n",
       "      <td>TEN</td>\n",
       "      <td>Titans</td>\n",
       "      <td>Tennessee Titans</td>\n",
       "      <td>Nashville</td>\n",
       "      <td>31</td>\n",
       "      <td>AFC</td>\n",
       "      <td>South</td>\n",
       "      <td>AFC South</td>\n",
       "      <td>...</td>\n",
       "      <td>2015</td>\n",
       "      <td>7</td>\n",
       "      <td>20</td>\n",
       "      <td>Monday</td>\n",
       "      <td>2</td>\n",
       "      <td>0</td>\n",
       "      <td>1675</td>\n",
       "      <td>0</td>\n",
       "      <td>167</td>\n",
       "      <td>269</td>\n",
       "    </tr>\n",
       "    <tr>\n",
       "      <td>2</td>\n",
       "      <td>33</td>\n",
       "      <td>2014-10-24</td>\n",
       "      <td>TEN</td>\n",
       "      <td>Titans</td>\n",
       "      <td>Tennessee Titans</td>\n",
       "      <td>Nashville</td>\n",
       "      <td>31</td>\n",
       "      <td>AFC</td>\n",
       "      <td>South</td>\n",
       "      <td>AFC South</td>\n",
       "      <td>...</td>\n",
       "      <td>2014</td>\n",
       "      <td>10</td>\n",
       "      <td>24</td>\n",
       "      <td>Friday</td>\n",
       "      <td>6</td>\n",
       "      <td>0</td>\n",
       "      <td>1944</td>\n",
       "      <td>2</td>\n",
       "      <td>126</td>\n",
       "      <td>217</td>\n",
       "    </tr>\n",
       "    <tr>\n",
       "      <td>3</td>\n",
       "      <td>68</td>\n",
       "      <td>2014-03-21</td>\n",
       "      <td>TEN</td>\n",
       "      <td>Titans</td>\n",
       "      <td>Tennessee Titans</td>\n",
       "      <td>Nashville</td>\n",
       "      <td>31</td>\n",
       "      <td>AFC</td>\n",
       "      <td>South</td>\n",
       "      <td>AFC South</td>\n",
       "      <td>...</td>\n",
       "      <td>2014</td>\n",
       "      <td>3</td>\n",
       "      <td>21</td>\n",
       "      <td>Friday</td>\n",
       "      <td>6</td>\n",
       "      <td>0</td>\n",
       "      <td>2161</td>\n",
       "      <td>12</td>\n",
       "      <td>91</td>\n",
       "      <td>391</td>\n",
       "    </tr>\n",
       "    <tr>\n",
       "      <td>4</td>\n",
       "      <td>132</td>\n",
       "      <td>2013-02-23</td>\n",
       "      <td>TEN</td>\n",
       "      <td>Titans</td>\n",
       "      <td>Tennessee Titans</td>\n",
       "      <td>Nashville</td>\n",
       "      <td>31</td>\n",
       "      <td>AFC</td>\n",
       "      <td>South</td>\n",
       "      <td>AFC South</td>\n",
       "      <td>...</td>\n",
       "      <td>2013</td>\n",
       "      <td>2</td>\n",
       "      <td>23</td>\n",
       "      <td>Saturday</td>\n",
       "      <td>7</td>\n",
       "      <td>0</td>\n",
       "      <td>2552</td>\n",
       "      <td>3</td>\n",
       "      <td>3</td>\n",
       "      <td>218</td>\n",
       "    </tr>\n",
       "  </tbody>\n",
       "</table>\n",
       "<p>5 rows × 39 columns</p>\n",
       "</div>"
      ],
      "text/plain": [
       "  arrest_stats_id        date team team_name team_preffered_name  team_city  \\\n",
       "0             803  2015-09-30  TEN    Titans    Tennessee Titans  Nashville   \n",
       "1               3  2015-07-20  TEN    Titans    Tennessee Titans  Nashville   \n",
       "2              33  2014-10-24  TEN    Titans    Tennessee Titans  Nashville   \n",
       "3              68  2014-03-21  TEN    Titans    Tennessee Titans  Nashville   \n",
       "4             132  2013-02-23  TEN    Titans    Tennessee Titans  Nashville   \n",
       "\n",
       "  team_logo_id team_conference team_division team_conference_division  ...  \\\n",
       "0           31             AFC         South                AFC South  ...   \n",
       "1           31             AFC         South                AFC South  ...   \n",
       "2           31             AFC         South                AFC South  ...   \n",
       "3           31             AFC         South                AFC South  ...   \n",
       "4           31             AFC         South                AFC South  ...   \n",
       "\n",
       "   year month day day_of_week day_of_week_int yeartodate dayssince  \\\n",
       "0  2015     9  30   Wednesday               4          0      1603   \n",
       "1  2015     7  20      Monday               2          0      1675   \n",
       "2  2014    10  24      Friday               6          0      1944   \n",
       "3  2014     3  21      Friday               6          0      2161   \n",
       "4  2013     2  23    Saturday               7          0      2552   \n",
       "\n",
       "  daystolastarrest daystolastcrimearrest daystolastteamarrest  \n",
       "0               35                   341                   72  \n",
       "1                0                   167                  269  \n",
       "2                2                   126                  217  \n",
       "3               12                    91                  391  \n",
       "4                3                     3                  218  \n",
       "\n",
       "[5 rows x 39 columns]"
      ]
     },
     "execution_count": 60,
     "metadata": {},
     "output_type": "execute_result"
    }
   ],
   "source": [
    "NFLplayers_arrest.head()"
   ]
  },
  {
   "cell_type": "code",
   "execution_count": 61,
   "metadata": {
    "ExecuteTime": {
     "end_time": "2020-02-20T16:51:59.117305Z",
     "start_time": "2020-02-20T16:51:59.100936Z"
    },
    "hidden": true
   },
   "outputs": [
    {
     "data": {
      "text/plain": [
       "(870, 39)"
      ]
     },
     "execution_count": 61,
     "metadata": {},
     "output_type": "execute_result"
    }
   ],
   "source": [
    "NFLplayers_arrest.shape"
   ]
  },
  {
   "cell_type": "code",
   "execution_count": 62,
   "metadata": {
    "ExecuteTime": {
     "end_time": "2020-02-20T16:52:20.632118Z",
     "start_time": "2020-02-20T16:52:20.614471Z"
    },
    "hidden": true
   },
   "outputs": [
    {
     "data": {
      "text/plain": [
       "(877, 39)"
      ]
     },
     "execution_count": 62,
     "metadata": {},
     "output_type": "execute_result"
    }
   ],
   "source": [
    "NFL_teams.shape"
   ]
  },
  {
   "cell_type": "code",
   "execution_count": 63,
   "metadata": {
    "ExecuteTime": {
     "end_time": "2020-02-20T16:52:44.948156Z",
     "start_time": "2020-02-20T16:52:44.930965Z"
    },
    "hidden": true
   },
   "outputs": [],
   "source": [
    "NFLarrest = pd.concat([NFLplayers_arrest, NFL_teams])"
   ]
  },
  {
   "cell_type": "code",
   "execution_count": 64,
   "metadata": {
    "ExecuteTime": {
     "end_time": "2020-02-20T16:53:06.302840Z",
     "start_time": "2020-02-20T16:53:06.290250Z"
    },
    "hidden": true
   },
   "outputs": [
    {
     "data": {
      "text/plain": [
       "Index(['arrest_stats_id', 'date', 'team', 'team_name', 'team_preffered_name',\n",
       "       'team_city', 'team_logo_id', 'team_conference', 'team_division',\n",
       "       'team_conference_division', 'team_hex_color', 'team_hex_alt_color',\n",
       "       'reddit_group_id', 'name', 'position', 'position_name', 'position_type',\n",
       "       'encounter', 'category', 'crime_category', 'crime_category_color',\n",
       "       'description', 'outcome', 'season', 'arrestseasonstate',\n",
       "       'overall_category_id', 'general_category_id', 'legal_level_id',\n",
       "       'resolution_category_id', 'year', 'month', 'day', 'day_of_week',\n",
       "       'day_of_week_int', 'yeartodate', 'dayssince', 'daystolastarrest',\n",
       "       'daystolastcrimearrest', 'daystolastteamarrest'],\n",
       "      dtype='object')"
      ]
     },
     "execution_count": 64,
     "metadata": {},
     "output_type": "execute_result"
    }
   ],
   "source": [
    "NFLarrest.columns"
   ]
  },
  {
   "cell_type": "code",
   "execution_count": 65,
   "metadata": {
    "ExecuteTime": {
     "end_time": "2020-02-20T16:53:27.664513Z",
     "start_time": "2020-02-20T16:53:27.649443Z"
    },
    "hidden": true
   },
   "outputs": [],
   "source": [
    "#Borro muchas columnas que podrían ser interesantes, es que no me da la RAM\n",
    "NFLarrest = NFLarrest.drop(['team_logo_id','team_conference_division', \n",
    "                            'team_hex_color', 'team_hex_alt_color',\n",
    "                            'reddit_group_id','team_conference_division','encounter',\n",
    "                            'crime_category_color','overall_category_id', 'general_category_id',\n",
    "                            'legal_level_id', 'resolution_category_id','year','date',\n",
    "                            'day_of_week_int', 'yeartodate', 'dayssince', 'daystolastarrest',\n",
    "                            'daystolastcrimearrest', 'daystolastteamarrest'], axis = 1)"
   ]
  },
  {
   "cell_type": "code",
   "execution_count": 66,
   "metadata": {
    "ExecuteTime": {
     "end_time": "2020-02-20T16:53:47.684565Z",
     "start_time": "2020-02-20T16:53:47.657781Z"
    },
    "hidden": true
   },
   "outputs": [],
   "source": [
    "NFLarrest = NFLarrest.drop_duplicates()"
   ]
  },
  {
   "cell_type": "code",
   "execution_count": 67,
   "metadata": {
    "ExecuteTime": {
     "end_time": "2020-02-20T16:54:07.643648Z",
     "start_time": "2020-02-20T16:54:07.625855Z"
    },
    "hidden": true
   },
   "outputs": [
    {
     "data": {
      "text/plain": [
       "(885, 20)"
      ]
     },
     "execution_count": 67,
     "metadata": {},
     "output_type": "execute_result"
    }
   ],
   "source": [
    "NFLarrest.shape"
   ]
  },
  {
   "cell_type": "markdown",
   "metadata": {
    "hidden": true
   },
   "source": [
    "Con esto podemos ver los jugadores con más delitos cometidos"
   ]
  },
  {
   "cell_type": "code",
   "execution_count": 82,
   "metadata": {
    "ExecuteTime": {
     "end_time": "2020-02-20T17:12:07.985506Z",
     "start_time": "2020-02-20T17:12:07.948532Z"
    },
    "hidden": true
   },
   "outputs": [
    {
     "data": {
      "text/plain": [
       "Adam Jones           10\n",
       "Kenny Britt           7\n",
       "Chris Henry           6\n",
       "Aldon Smith           6\n",
       "Bryant McKinnie       4\n",
       "                     ..\n",
       "Cortland Finnegan     1\n",
       "Roddy White           1\n",
       "Matt Schaub           1\n",
       "Ben Kelly             1\n",
       "Charlie Rogers        1\n",
       "Name: name, Length: 665, dtype: int64"
      ]
     },
     "execution_count": 82,
     "metadata": {},
     "output_type": "execute_result"
    }
   ],
   "source": [
    "NFLarrest['name'].value_counts()"
   ]
  },
  {
   "cell_type": "markdown",
   "metadata": {
    "ExecuteTime": {
     "end_time": "2020-02-20T17:13:20.782850Z",
     "start_time": "2020-02-20T17:13:20.773532Z"
    },
    "hidden": true
   },
   "source": [
    "Observamos que sale un número diferente a la primera tabla extraída. Lo comprobaremos con el <CODE>'arrest_stats_id'</CODE>"
   ]
  },
  {
   "cell_type": "code",
   "execution_count": 32,
   "metadata": {
    "ExecuteTime": {
     "end_time": "2020-02-20T16:14:22.511183Z",
     "start_time": "2020-02-20T16:14:22.479357Z"
    },
    "hidden": true
   },
   "outputs": [
    {
     "data": {
      "text/html": [
       "<div>\n",
       "<style scoped>\n",
       "    .dataframe tbody tr th:only-of-type {\n",
       "        vertical-align: middle;\n",
       "    }\n",
       "\n",
       "    .dataframe tbody tr th {\n",
       "        vertical-align: top;\n",
       "    }\n",
       "\n",
       "    .dataframe thead th {\n",
       "        text-align: right;\n",
       "    }\n",
       "</style>\n",
       "<table border=\"1\" class=\"dataframe\">\n",
       "  <thead>\n",
       "    <tr style=\"text-align: right;\">\n",
       "      <th></th>\n",
       "      <th>arrest_stats_id</th>\n",
       "      <th>team</th>\n",
       "      <th>team_name</th>\n",
       "      <th>team_preffered_name</th>\n",
       "      <th>team_city</th>\n",
       "      <th>team_conference</th>\n",
       "      <th>team_division</th>\n",
       "      <th>name</th>\n",
       "      <th>position</th>\n",
       "      <th>position_name</th>\n",
       "      <th>position_type</th>\n",
       "      <th>category</th>\n",
       "      <th>crime_category</th>\n",
       "      <th>description</th>\n",
       "      <th>outcome</th>\n",
       "      <th>season</th>\n",
       "      <th>arrestseasonstate</th>\n",
       "      <th>month</th>\n",
       "      <th>day</th>\n",
       "      <th>day_of_week</th>\n",
       "    </tr>\n",
       "  </thead>\n",
       "  <tbody>\n",
       "    <tr>\n",
       "      <td>19</td>\n",
       "      <td>830</td>\n",
       "      <td>CIN</td>\n",
       "      <td>Bengals</td>\n",
       "      <td>Cincinnati Bengals</td>\n",
       "      <td>Cincinnati</td>\n",
       "      <td>AFC</td>\n",
       "      <td>North</td>\n",
       "      <td>Adam Jones</td>\n",
       "      <td>CB</td>\n",
       "      <td>Cornerback</td>\n",
       "      <td>D</td>\n",
       "      <td>Assault</td>\n",
       "      <td>Assault / Battery</td>\n",
       "      <td>Accused of poking hotel security employee in t...</td>\n",
       "      <td>Pleaded guilty to misdemeanor charge, sentence...</td>\n",
       "      <td>2017</td>\n",
       "      <td>OffSeason</td>\n",
       "      <td>1</td>\n",
       "      <td>2</td>\n",
       "      <td>Monday</td>\n",
       "    </tr>\n",
       "    <tr>\n",
       "      <td>20</td>\n",
       "      <td>92</td>\n",
       "      <td>CIN</td>\n",
       "      <td>Bengals</td>\n",
       "      <td>Cincinnati Bengals</td>\n",
       "      <td>Cincinnati</td>\n",
       "      <td>AFC</td>\n",
       "      <td>North</td>\n",
       "      <td>Adam Jones</td>\n",
       "      <td>CB</td>\n",
       "      <td>Cornerback</td>\n",
       "      <td>D</td>\n",
       "      <td>Disorderly conduct</td>\n",
       "      <td>Alcohol / Disorderly</td>\n",
       "      <td>He was the passenger in a car pulled over for ...</td>\n",
       "      <td>Paid $130 for fine and court costs.</td>\n",
       "      <td>2013</td>\n",
       "      <td>InSeason</td>\n",
       "      <td>9</td>\n",
       "      <td>23</td>\n",
       "      <td>Monday</td>\n",
       "    </tr>\n",
       "    <tr>\n",
       "      <td>21</td>\n",
       "      <td>107</td>\n",
       "      <td>CIN</td>\n",
       "      <td>Bengals</td>\n",
       "      <td>Cincinnati Bengals</td>\n",
       "      <td>Cincinnati</td>\n",
       "      <td>AFC</td>\n",
       "      <td>North</td>\n",
       "      <td>Adam Jones</td>\n",
       "      <td>CB</td>\n",
       "      <td>Cornerback</td>\n",
       "      <td>D</td>\n",
       "      <td>Assault</td>\n",
       "      <td>Assault / Battery</td>\n",
       "      <td>Accused of punching a woman outside a Cincinna...</td>\n",
       "      <td>Resolution undetermined.</td>\n",
       "      <td>2013</td>\n",
       "      <td>OffSeason</td>\n",
       "      <td>6</td>\n",
       "      <td>10</td>\n",
       "      <td>Monday</td>\n",
       "    </tr>\n",
       "    <tr>\n",
       "      <td>22</td>\n",
       "      <td>207</td>\n",
       "      <td>CIN</td>\n",
       "      <td>Bengals</td>\n",
       "      <td>Cincinnati Bengals</td>\n",
       "      <td>Cincinnati</td>\n",
       "      <td>AFC</td>\n",
       "      <td>North</td>\n",
       "      <td>Adam Jones</td>\n",
       "      <td>CB</td>\n",
       "      <td>Cornerback</td>\n",
       "      <td>D</td>\n",
       "      <td>Alcohol</td>\n",
       "      <td>Alcohol / Disorderly</td>\n",
       "      <td>Accused of disorderly conduct while intoxicate...</td>\n",
       "      <td>Resolution undetermined.</td>\n",
       "      <td>2011</td>\n",
       "      <td>OffSeason</td>\n",
       "      <td>7</td>\n",
       "      <td>10</td>\n",
       "      <td>Sunday</td>\n",
       "    </tr>\n",
       "    <tr>\n",
       "      <td>23</td>\n",
       "      <td>440</td>\n",
       "      <td>TEN</td>\n",
       "      <td>Titans</td>\n",
       "      <td>Tennessee Titans</td>\n",
       "      <td>Nashville</td>\n",
       "      <td>AFC</td>\n",
       "      <td>South</td>\n",
       "      <td>Adam Jones</td>\n",
       "      <td>CB</td>\n",
       "      <td>Cornerback</td>\n",
       "      <td>D</td>\n",
       "      <td>Coercion, gun</td>\n",
       "      <td>Other</td>\n",
       "      <td>Surrendered in Las Vegas, charged with felony ...</td>\n",
       "      <td>Pleaded no contest to conspiracy to commit dis...</td>\n",
       "      <td>2007</td>\n",
       "      <td>OffSeason</td>\n",
       "      <td>6</td>\n",
       "      <td>21</td>\n",
       "      <td>Thursday</td>\n",
       "    </tr>\n",
       "    <tr>\n",
       "      <td>24</td>\n",
       "      <td>487</td>\n",
       "      <td>TEN</td>\n",
       "      <td>Titans</td>\n",
       "      <td>Tennessee Titans</td>\n",
       "      <td>Nashville</td>\n",
       "      <td>AFC</td>\n",
       "      <td>South</td>\n",
       "      <td>Adam Jones</td>\n",
       "      <td>CB</td>\n",
       "      <td>Cornerback</td>\n",
       "      <td>D</td>\n",
       "      <td>Assault</td>\n",
       "      <td>Assault / Battery</td>\n",
       "      <td>Accused of spitting in a woman's face at Nashv...</td>\n",
       "      <td>Charge dropped because of inconsistent testimony.</td>\n",
       "      <td>2006</td>\n",
       "      <td>InSeason</td>\n",
       "      <td>10</td>\n",
       "      <td>26</td>\n",
       "      <td>Thursday</td>\n",
       "    </tr>\n",
       "    <tr>\n",
       "      <td>25</td>\n",
       "      <td>500</td>\n",
       "      <td>TEN</td>\n",
       "      <td>Titans</td>\n",
       "      <td>Tennessee Titans</td>\n",
       "      <td>Nashville</td>\n",
       "      <td>AFC</td>\n",
       "      <td>South</td>\n",
       "      <td>Adam Jones</td>\n",
       "      <td>CB</td>\n",
       "      <td>Cornerback</td>\n",
       "      <td>D</td>\n",
       "      <td>Public intoxication</td>\n",
       "      <td>Alcohol / Disorderly</td>\n",
       "      <td>Accused of being drunk, shouting profanities a...</td>\n",
       "      <td>Charges dropped on the condition he stays out ...</td>\n",
       "      <td>2006</td>\n",
       "      <td>OffSeason</td>\n",
       "      <td>8</td>\n",
       "      <td>25</td>\n",
       "      <td>Friday</td>\n",
       "    </tr>\n",
       "    <tr>\n",
       "      <td>26</td>\n",
       "      <td>534</td>\n",
       "      <td>TEN</td>\n",
       "      <td>Titans</td>\n",
       "      <td>Tennessee Titans</td>\n",
       "      <td>Nashville</td>\n",
       "      <td>AFC</td>\n",
       "      <td>South</td>\n",
       "      <td>Adam Jones</td>\n",
       "      <td>CB</td>\n",
       "      <td>Cornerback</td>\n",
       "      <td>D</td>\n",
       "      <td>Drugs</td>\n",
       "      <td>Drugs</td>\n",
       "      <td>Accused of smoking marijuana after he emerged ...</td>\n",
       "      <td>Charge dropped.</td>\n",
       "      <td>2006</td>\n",
       "      <td>OffSeason</td>\n",
       "      <td>3</td>\n",
       "      <td>23</td>\n",
       "      <td>Thursday</td>\n",
       "    </tr>\n",
       "    <tr>\n",
       "      <td>27</td>\n",
       "      <td>541</td>\n",
       "      <td>TEN</td>\n",
       "      <td>Titans</td>\n",
       "      <td>Tennessee Titans</td>\n",
       "      <td>Nashville</td>\n",
       "      <td>AFC</td>\n",
       "      <td>South</td>\n",
       "      <td>Adam Jones</td>\n",
       "      <td>CB</td>\n",
       "      <td>Cornerback</td>\n",
       "      <td>D</td>\n",
       "      <td>Drugs</td>\n",
       "      <td>Drugs</td>\n",
       "      <td>Accused of throwing a punch at an officer and ...</td>\n",
       "      <td>Pleaded no contest to obstructing police, thre...</td>\n",
       "      <td>2006</td>\n",
       "      <td>OffSeason</td>\n",
       "      <td>2</td>\n",
       "      <td>6</td>\n",
       "      <td>Monday</td>\n",
       "    </tr>\n",
       "    <tr>\n",
       "      <td>28</td>\n",
       "      <td>568</td>\n",
       "      <td>TEN</td>\n",
       "      <td>Titans</td>\n",
       "      <td>Tennessee Titans</td>\n",
       "      <td>Nashville</td>\n",
       "      <td>AFC</td>\n",
       "      <td>South</td>\n",
       "      <td>Adam Jones</td>\n",
       "      <td>CB</td>\n",
       "      <td>Cornerback</td>\n",
       "      <td>D</td>\n",
       "      <td>Assault</td>\n",
       "      <td>Assault / Battery</td>\n",
       "      <td>Accused of assault and vandalism after being a...</td>\n",
       "      <td>Charges dropped after nightclub manager said h...</td>\n",
       "      <td>2005</td>\n",
       "      <td>OffSeason</td>\n",
       "      <td>7</td>\n",
       "      <td>13</td>\n",
       "      <td>Wednesday</td>\n",
       "    </tr>\n",
       "  </tbody>\n",
       "</table>\n",
       "</div>"
      ],
      "text/plain": [
       "   arrest_stats_id team team_name team_preffered_name   team_city  \\\n",
       "19             830  CIN   Bengals  Cincinnati Bengals  Cincinnati   \n",
       "20              92  CIN   Bengals  Cincinnati Bengals  Cincinnati   \n",
       "21             107  CIN   Bengals  Cincinnati Bengals  Cincinnati   \n",
       "22             207  CIN   Bengals  Cincinnati Bengals  Cincinnati   \n",
       "23             440  TEN    Titans    Tennessee Titans   Nashville   \n",
       "24             487  TEN    Titans    Tennessee Titans   Nashville   \n",
       "25             500  TEN    Titans    Tennessee Titans   Nashville   \n",
       "26             534  TEN    Titans    Tennessee Titans   Nashville   \n",
       "27             541  TEN    Titans    Tennessee Titans   Nashville   \n",
       "28             568  TEN    Titans    Tennessee Titans   Nashville   \n",
       "\n",
       "   team_conference team_division        name position position_name  \\\n",
       "19             AFC         North  Adam Jones       CB    Cornerback   \n",
       "20             AFC         North  Adam Jones       CB    Cornerback   \n",
       "21             AFC         North  Adam Jones       CB    Cornerback   \n",
       "22             AFC         North  Adam Jones       CB    Cornerback   \n",
       "23             AFC         South  Adam Jones       CB    Cornerback   \n",
       "24             AFC         South  Adam Jones       CB    Cornerback   \n",
       "25             AFC         South  Adam Jones       CB    Cornerback   \n",
       "26             AFC         South  Adam Jones       CB    Cornerback   \n",
       "27             AFC         South  Adam Jones       CB    Cornerback   \n",
       "28             AFC         South  Adam Jones       CB    Cornerback   \n",
       "\n",
       "   position_type             category        crime_category  \\\n",
       "19             D              Assault     Assault / Battery   \n",
       "20             D   Disorderly conduct  Alcohol / Disorderly   \n",
       "21             D              Assault     Assault / Battery   \n",
       "22             D              Alcohol  Alcohol / Disorderly   \n",
       "23             D        Coercion, gun                 Other   \n",
       "24             D              Assault     Assault / Battery   \n",
       "25             D  Public intoxication  Alcohol / Disorderly   \n",
       "26             D                Drugs                 Drugs   \n",
       "27             D                Drugs                 Drugs   \n",
       "28             D              Assault     Assault / Battery   \n",
       "\n",
       "                                          description  \\\n",
       "19  Accused of poking hotel security employee in t...   \n",
       "20  He was the passenger in a car pulled over for ...   \n",
       "21  Accused of punching a woman outside a Cincinna...   \n",
       "22  Accused of disorderly conduct while intoxicate...   \n",
       "23  Surrendered in Las Vegas, charged with felony ...   \n",
       "24  Accused of spitting in a woman's face at Nashv...   \n",
       "25  Accused of being drunk, shouting profanities a...   \n",
       "26  Accused of smoking marijuana after he emerged ...   \n",
       "27  Accused of throwing a punch at an officer and ...   \n",
       "28  Accused of assault and vandalism after being a...   \n",
       "\n",
       "                                              outcome season  \\\n",
       "19  Pleaded guilty to misdemeanor charge, sentence...   2017   \n",
       "20                Paid $130 for fine and court costs.   2013   \n",
       "21                           Resolution undetermined.   2013   \n",
       "22                           Resolution undetermined.   2011   \n",
       "23  Pleaded no contest to conspiracy to commit dis...   2007   \n",
       "24  Charge dropped because of inconsistent testimony.   2006   \n",
       "25  Charges dropped on the condition he stays out ...   2006   \n",
       "26                                    Charge dropped.   2006   \n",
       "27  Pleaded no contest to obstructing police, thre...   2006   \n",
       "28  Charges dropped after nightclub manager said h...   2005   \n",
       "\n",
       "   arrestseasonstate month day day_of_week  \n",
       "19         OffSeason     1   2      Monday  \n",
       "20          InSeason     9  23      Monday  \n",
       "21         OffSeason     6  10      Monday  \n",
       "22         OffSeason     7  10      Sunday  \n",
       "23         OffSeason     6  21    Thursday  \n",
       "24          InSeason    10  26    Thursday  \n",
       "25         OffSeason     8  25      Friday  \n",
       "26         OffSeason     3  23    Thursday  \n",
       "27         OffSeason     2   6      Monday  \n",
       "28         OffSeason     7  13   Wednesday  "
      ]
     },
     "execution_count": 32,
     "metadata": {},
     "output_type": "execute_result"
    }
   ],
   "source": [
    "NFLarrest[NFLarrest.name == 'Adam Jones']"
   ]
  },
  {
   "cell_type": "markdown",
   "metadata": {},
   "source": [
    "## Web NFL"
   ]
  },
  {
   "cell_type": "markdown",
   "metadata": {},
   "source": [
    "Seleccionamos a los 3 jugadores con un mayor número de arrestos para ver sus estadísiticas de juego."
   ]
  },
  {
   "cell_type": "markdown",
   "metadata": {
    "heading_collapsed": true
   },
   "source": [
    "### Adam Jones"
   ]
  },
  {
   "cell_type": "code",
   "execution_count": 51,
   "metadata": {
    "ExecuteTime": {
     "end_time": "2020-02-20T16:27:13.291086Z",
     "start_time": "2020-02-20T16:27:13.282587Z"
    },
    "hidden": true
   },
   "outputs": [],
   "source": [
    "url = \"http://www.nfl.com/player/adamjones/2506345/profile\""
   ]
  },
  {
   "cell_type": "code",
   "execution_count": 54,
   "metadata": {
    "ExecuteTime": {
     "end_time": "2020-02-20T16:32:18.147194Z",
     "start_time": "2020-02-20T16:32:16.073093Z"
    },
    "hidden": true
   },
   "outputs": [],
   "source": [
    "AdamJones = players_stats(url)"
   ]
  },
  {
   "cell_type": "code",
   "execution_count": 55,
   "metadata": {
    "ExecuteTime": {
     "end_time": "2020-02-20T16:32:50.803759Z",
     "start_time": "2020-02-20T16:32:50.774464Z"
    },
    "hidden": true
   },
   "outputs": [
    {
     "data": {
      "text/html": [
       "<div>\n",
       "<style scoped>\n",
       "    .dataframe tbody tr th:only-of-type {\n",
       "        vertical-align: middle;\n",
       "    }\n",
       "\n",
       "    .dataframe tbody tr th {\n",
       "        vertical-align: top;\n",
       "    }\n",
       "\n",
       "    .dataframe thead th {\n",
       "        text-align: right;\n",
       "    }\n",
       "</style>\n",
       "<table border=\"1\" class=\"dataframe\">\n",
       "  <thead>\n",
       "    <tr style=\"text-align: right;\">\n",
       "      <th></th>\n",
       "      <th>season</th>\n",
       "      <th>team</th>\n",
       "      <th>g</th>\n",
       "      <th>gs</th>\n",
       "      <th>comb</th>\n",
       "      <th>total</th>\n",
       "      <th>ast</th>\n",
       "      <th>sck</th>\n",
       "      <th>sfty</th>\n",
       "      <th>pdef</th>\n",
       "      <th>int</th>\n",
       "      <th>yds</th>\n",
       "      <th>avg</th>\n",
       "      <th>lng</th>\n",
       "      <th>tds</th>\n",
       "      <th>ff</th>\n",
       "    </tr>\n",
       "  </thead>\n",
       "  <tbody>\n",
       "    <tr>\n",
       "      <td>3</td>\n",
       "      <td>2018</td>\n",
       "      <td>Denver Broncos</td>\n",
       "      <td>7</td>\n",
       "      <td>2</td>\n",
       "      <td>9</td>\n",
       "      <td>9</td>\n",
       "      <td>0</td>\n",
       "      <td>0.0</td>\n",
       "      <td>--</td>\n",
       "      <td>3</td>\n",
       "      <td>1</td>\n",
       "      <td>0</td>\n",
       "      <td>0.0</td>\n",
       "      <td>0</td>\n",
       "      <td>0</td>\n",
       "      <td>0</td>\n",
       "    </tr>\n",
       "    <tr>\n",
       "      <td>5</td>\n",
       "      <td>2017</td>\n",
       "      <td>Cincinnati Bengals</td>\n",
       "      <td>9</td>\n",
       "      <td>9</td>\n",
       "      <td>23</td>\n",
       "      <td>19</td>\n",
       "      <td>4</td>\n",
       "      <td>0.0</td>\n",
       "      <td>--</td>\n",
       "      <td>4</td>\n",
       "      <td>1</td>\n",
       "      <td>0</td>\n",
       "      <td>0.0</td>\n",
       "      <td>0</td>\n",
       "      <td>0</td>\n",
       "      <td>0</td>\n",
       "    </tr>\n",
       "    <tr>\n",
       "      <td>7</td>\n",
       "      <td>2016</td>\n",
       "      <td>Cincinnati Bengals</td>\n",
       "      <td>16</td>\n",
       "      <td>16</td>\n",
       "      <td>66</td>\n",
       "      <td>54</td>\n",
       "      <td>12</td>\n",
       "      <td>0.0</td>\n",
       "      <td>--</td>\n",
       "      <td>7</td>\n",
       "      <td>1</td>\n",
       "      <td>2</td>\n",
       "      <td>2.0</td>\n",
       "      <td>2</td>\n",
       "      <td>0</td>\n",
       "      <td>1</td>\n",
       "    </tr>\n",
       "    <tr>\n",
       "      <td>9</td>\n",
       "      <td>2015</td>\n",
       "      <td>Cincinnati Bengals</td>\n",
       "      <td>14</td>\n",
       "      <td>14</td>\n",
       "      <td>62</td>\n",
       "      <td>53</td>\n",
       "      <td>9</td>\n",
       "      <td>1.0</td>\n",
       "      <td>--</td>\n",
       "      <td>12</td>\n",
       "      <td>3</td>\n",
       "      <td>14</td>\n",
       "      <td>4.7</td>\n",
       "      <td>14</td>\n",
       "      <td>0</td>\n",
       "      <td>1</td>\n",
       "    </tr>\n",
       "    <tr>\n",
       "      <td>11</td>\n",
       "      <td>2014</td>\n",
       "      <td>Cincinnati Bengals</td>\n",
       "      <td>16</td>\n",
       "      <td>3</td>\n",
       "      <td>63</td>\n",
       "      <td>51</td>\n",
       "      <td>12</td>\n",
       "      <td>0.0</td>\n",
       "      <td>--</td>\n",
       "      <td>11</td>\n",
       "      <td>3</td>\n",
       "      <td>23</td>\n",
       "      <td>7.7</td>\n",
       "      <td>12</td>\n",
       "      <td>0</td>\n",
       "      <td>0</td>\n",
       "    </tr>\n",
       "    <tr>\n",
       "      <td>13</td>\n",
       "      <td>2013</td>\n",
       "      <td>Cincinnati Bengals</td>\n",
       "      <td>16</td>\n",
       "      <td>13</td>\n",
       "      <td>56</td>\n",
       "      <td>44</td>\n",
       "      <td>12</td>\n",
       "      <td>0.0</td>\n",
       "      <td>0</td>\n",
       "      <td>12</td>\n",
       "      <td>3</td>\n",
       "      <td>60</td>\n",
       "      <td>20.0</td>\n",
       "      <td>60T</td>\n",
       "      <td>1</td>\n",
       "      <td>1</td>\n",
       "    </tr>\n",
       "    <tr>\n",
       "      <td>15</td>\n",
       "      <td>2012</td>\n",
       "      <td>Cincinnati Bengals</td>\n",
       "      <td>16</td>\n",
       "      <td>5</td>\n",
       "      <td>40</td>\n",
       "      <td>33</td>\n",
       "      <td>7</td>\n",
       "      <td>1.0</td>\n",
       "      <td>0</td>\n",
       "      <td>9</td>\n",
       "      <td>--</td>\n",
       "      <td>--</td>\n",
       "      <td>0.0</td>\n",
       "      <td>--</td>\n",
       "      <td>--</td>\n",
       "      <td>1</td>\n",
       "    </tr>\n",
       "    <tr>\n",
       "      <td>17</td>\n",
       "      <td>2011</td>\n",
       "      <td>Cincinnati Bengals</td>\n",
       "      <td>8</td>\n",
       "      <td>7</td>\n",
       "      <td>28</td>\n",
       "      <td>26</td>\n",
       "      <td>2</td>\n",
       "      <td>0.0</td>\n",
       "      <td>--</td>\n",
       "      <td>6</td>\n",
       "      <td>--</td>\n",
       "      <td>--</td>\n",
       "      <td>0.0</td>\n",
       "      <td>--</td>\n",
       "      <td>--</td>\n",
       "      <td>0</td>\n",
       "    </tr>\n",
       "    <tr>\n",
       "      <td>19</td>\n",
       "      <td>2010</td>\n",
       "      <td>Cincinnati Bengals</td>\n",
       "      <td>5</td>\n",
       "      <td>1</td>\n",
       "      <td>14</td>\n",
       "      <td>11</td>\n",
       "      <td>3</td>\n",
       "      <td>0.0</td>\n",
       "      <td>0</td>\n",
       "      <td>3</td>\n",
       "      <td>1</td>\n",
       "      <td>10</td>\n",
       "      <td>10.0</td>\n",
       "      <td>10</td>\n",
       "      <td>0</td>\n",
       "      <td>1</td>\n",
       "    </tr>\n",
       "    <tr>\n",
       "      <td>21</td>\n",
       "      <td>2008</td>\n",
       "      <td>Dallas Cowboys</td>\n",
       "      <td>9</td>\n",
       "      <td>6</td>\n",
       "      <td>31</td>\n",
       "      <td>26</td>\n",
       "      <td>5</td>\n",
       "      <td>0.0</td>\n",
       "      <td>--</td>\n",
       "      <td>7</td>\n",
       "      <td>--</td>\n",
       "      <td>--</td>\n",
       "      <td>0.0</td>\n",
       "      <td>--</td>\n",
       "      <td>--</td>\n",
       "      <td>1</td>\n",
       "    </tr>\n",
       "    <tr>\n",
       "      <td>23</td>\n",
       "      <td>2006</td>\n",
       "      <td>Tennessee Titans</td>\n",
       "      <td>15</td>\n",
       "      <td>15</td>\n",
       "      <td>62</td>\n",
       "      <td>50</td>\n",
       "      <td>12</td>\n",
       "      <td>1.0</td>\n",
       "      <td>0</td>\n",
       "      <td>8</td>\n",
       "      <td>4</td>\n",
       "      <td>130</td>\n",
       "      <td>32.5</td>\n",
       "      <td>83T</td>\n",
       "      <td>1</td>\n",
       "      <td>1</td>\n",
       "    </tr>\n",
       "    <tr>\n",
       "      <td>25</td>\n",
       "      <td>2005</td>\n",
       "      <td>Tennessee Titans</td>\n",
       "      <td>15</td>\n",
       "      <td>13</td>\n",
       "      <td>53</td>\n",
       "      <td>44</td>\n",
       "      <td>9</td>\n",
       "      <td>0.0</td>\n",
       "      <td>0</td>\n",
       "      <td>10</td>\n",
       "      <td>--</td>\n",
       "      <td>--</td>\n",
       "      <td>0.0</td>\n",
       "      <td>--</td>\n",
       "      <td>--</td>\n",
       "      <td>0</td>\n",
       "    </tr>\n",
       "  </tbody>\n",
       "</table>\n",
       "</div>"
      ],
      "text/plain": [
       "   season                team   g              gs comb total ast  sck sfty  \\\n",
       "3    2018      Denver Broncos   7               2    9     9   0  0.0   --   \n",
       "5    2017  Cincinnati Bengals   9               9   23    19   4  0.0   --   \n",
       "7    2016  Cincinnati Bengals  16              16   66    54  12  0.0   --   \n",
       "9    2015  Cincinnati Bengals  14              14   62    53   9  1.0   --   \n",
       "11   2014  Cincinnati Bengals  16               3   63    51  12  0.0   --   \n",
       "13   2013  Cincinnati Bengals  16              13   56    44  12  0.0    0   \n",
       "15   2012  Cincinnati Bengals  16               5   40    33   7  1.0    0   \n",
       "17   2011  Cincinnati Bengals   8               7   28    26   2  0.0   --   \n",
       "19   2010  Cincinnati Bengals   5               1   14    11   3  0.0    0   \n",
       "21   2008      Dallas Cowboys   9               6   31    26   5  0.0   --   \n",
       "23   2006    Tennessee Titans  15              15   62    50  12  1.0    0   \n",
       "25   2005    Tennessee Titans  15              13   53    44   9  0.0    0   \n",
       "\n",
       "   pdef int  yds   avg  lng tds ff  \n",
       "3     3   1    0   0.0    0   0  0  \n",
       "5     4   1    0   0.0    0   0  0  \n",
       "7     7   1    2   2.0    2   0  1  \n",
       "9    12   3   14   4.7   14   0  1  \n",
       "11   11   3   23   7.7   12   0  0  \n",
       "13   12   3   60  20.0  60T   1  1  \n",
       "15    9  --   --   0.0   --  --  1  \n",
       "17    6  --   --   0.0   --  --  0  \n",
       "19    3   1   10  10.0   10   0  1  \n",
       "21    7  --   --   0.0   --  --  1  \n",
       "23    8   4  130  32.5  83T   1  1  \n",
       "25   10  --   --   0.0   --  --  0  "
      ]
     },
     "execution_count": 55,
     "metadata": {},
     "output_type": "execute_result"
    }
   ],
   "source": [
    "AdamJones"
   ]
  },
  {
   "cell_type": "markdown",
   "metadata": {
    "heading_collapsed": true
   },
   "source": [
    "### Kenny Britt"
   ]
  },
  {
   "cell_type": "code",
   "execution_count": 56,
   "metadata": {
    "ExecuteTime": {
     "end_time": "2020-02-20T16:33:33.815128Z",
     "start_time": "2020-02-20T16:33:33.811067Z"
    },
    "hidden": true
   },
   "outputs": [],
   "source": [
    "url = 'http://www.nfl.com/player/kennybritt/71217/profile'"
   ]
  },
  {
   "cell_type": "code",
   "execution_count": 57,
   "metadata": {
    "ExecuteTime": {
     "end_time": "2020-02-20T16:33:54.971960Z",
     "start_time": "2020-02-20T16:33:54.658853Z"
    },
    "hidden": true
   },
   "outputs": [],
   "source": [
    "KennyBritt = players_stats(url)"
   ]
  },
  {
   "cell_type": "code",
   "execution_count": 58,
   "metadata": {
    "ExecuteTime": {
     "end_time": "2020-02-20T16:34:18.999186Z",
     "start_time": "2020-02-20T16:34:18.962103Z"
    },
    "hidden": true
   },
   "outputs": [
    {
     "data": {
      "text/html": [
       "<div>\n",
       "<style scoped>\n",
       "    .dataframe tbody tr th:only-of-type {\n",
       "        vertical-align: middle;\n",
       "    }\n",
       "\n",
       "    .dataframe tbody tr th {\n",
       "        vertical-align: top;\n",
       "    }\n",
       "\n",
       "    .dataframe thead th {\n",
       "        text-align: right;\n",
       "    }\n",
       "</style>\n",
       "<table border=\"1\" class=\"dataframe\">\n",
       "  <thead>\n",
       "    <tr style=\"text-align: right;\">\n",
       "      <th></th>\n",
       "      <th>season</th>\n",
       "      <th>team</th>\n",
       "      <th>g</th>\n",
       "      <th>gs</th>\n",
       "      <th>comb</th>\n",
       "      <th>total</th>\n",
       "      <th>ast</th>\n",
       "      <th>sck</th>\n",
       "      <th>sfty</th>\n",
       "      <th>pdef</th>\n",
       "      <th>int</th>\n",
       "      <th>yds</th>\n",
       "      <th>avg</th>\n",
       "      <th>lng</th>\n",
       "      <th>tds</th>\n",
       "      <th>ff</th>\n",
       "    </tr>\n",
       "  </thead>\n",
       "  <tbody>\n",
       "    <tr>\n",
       "      <td>3</td>\n",
       "      <td>2017</td>\n",
       "      <td>New England Patriots</td>\n",
       "      <td>3</td>\n",
       "      <td>0</td>\n",
       "      <td>2</td>\n",
       "      <td>23</td>\n",
       "      <td>11.5</td>\n",
       "      <td>16</td>\n",
       "      <td>0</td>\n",
       "      <td>--</td>\n",
       "      <td>--</td>\n",
       "      <td>--</td>\n",
       "      <td>--</td>\n",
       "      <td>--</td>\n",
       "      <td>--</td>\n",
       "      <td>--</td>\n",
       "    </tr>\n",
       "    <tr>\n",
       "      <td>5</td>\n",
       "      <td>2017</td>\n",
       "      <td>Cleveland Browns</td>\n",
       "      <td>9</td>\n",
       "      <td>4</td>\n",
       "      <td>18</td>\n",
       "      <td>233</td>\n",
       "      <td>12.9</td>\n",
       "      <td>38</td>\n",
       "      <td>2</td>\n",
       "      <td>--</td>\n",
       "      <td>--</td>\n",
       "      <td>--</td>\n",
       "      <td>--</td>\n",
       "      <td>--</td>\n",
       "      <td>--</td>\n",
       "      <td>--</td>\n",
       "    </tr>\n",
       "    <tr>\n",
       "      <td>7</td>\n",
       "      <td>2016</td>\n",
       "      <td>Los Angeles Rams</td>\n",
       "      <td>15</td>\n",
       "      <td>15</td>\n",
       "      <td>68</td>\n",
       "      <td>1,002</td>\n",
       "      <td>14.7</td>\n",
       "      <td>66</td>\n",
       "      <td>5</td>\n",
       "      <td>--</td>\n",
       "      <td>--</td>\n",
       "      <td>--</td>\n",
       "      <td>--</td>\n",
       "      <td>--</td>\n",
       "      <td>2</td>\n",
       "      <td>1</td>\n",
       "    </tr>\n",
       "    <tr>\n",
       "      <td>9</td>\n",
       "      <td>2015</td>\n",
       "      <td>St. Louis Rams</td>\n",
       "      <td>16</td>\n",
       "      <td>14</td>\n",
       "      <td>36</td>\n",
       "      <td>681</td>\n",
       "      <td>18.9</td>\n",
       "      <td>60T</td>\n",
       "      <td>3</td>\n",
       "      <td>--</td>\n",
       "      <td>--</td>\n",
       "      <td>--</td>\n",
       "      <td>--</td>\n",
       "      <td>--</td>\n",
       "      <td>--</td>\n",
       "      <td>--</td>\n",
       "    </tr>\n",
       "    <tr>\n",
       "      <td>11</td>\n",
       "      <td>2014</td>\n",
       "      <td>St. Louis Rams</td>\n",
       "      <td>16</td>\n",
       "      <td>13</td>\n",
       "      <td>48</td>\n",
       "      <td>748</td>\n",
       "      <td>15.6</td>\n",
       "      <td>63T</td>\n",
       "      <td>3</td>\n",
       "      <td>2</td>\n",
       "      <td>14</td>\n",
       "      <td>7.0</td>\n",
       "      <td>12</td>\n",
       "      <td>0</td>\n",
       "      <td>--</td>\n",
       "      <td>--</td>\n",
       "    </tr>\n",
       "    <tr>\n",
       "      <td>13</td>\n",
       "      <td>2013</td>\n",
       "      <td>Tennessee Titans</td>\n",
       "      <td>12</td>\n",
       "      <td>3</td>\n",
       "      <td>11</td>\n",
       "      <td>96</td>\n",
       "      <td>8.7</td>\n",
       "      <td>15</td>\n",
       "      <td>0</td>\n",
       "      <td>--</td>\n",
       "      <td>--</td>\n",
       "      <td>--</td>\n",
       "      <td>--</td>\n",
       "      <td>--</td>\n",
       "      <td>--</td>\n",
       "      <td>--</td>\n",
       "    </tr>\n",
       "    <tr>\n",
       "      <td>15</td>\n",
       "      <td>2012</td>\n",
       "      <td>Tennessee Titans</td>\n",
       "      <td>14</td>\n",
       "      <td>11</td>\n",
       "      <td>45</td>\n",
       "      <td>589</td>\n",
       "      <td>13.1</td>\n",
       "      <td>46</td>\n",
       "      <td>4</td>\n",
       "      <td>--</td>\n",
       "      <td>--</td>\n",
       "      <td>--</td>\n",
       "      <td>--</td>\n",
       "      <td>--</td>\n",
       "      <td>2</td>\n",
       "      <td>1</td>\n",
       "    </tr>\n",
       "    <tr>\n",
       "      <td>17</td>\n",
       "      <td>2011</td>\n",
       "      <td>Tennessee Titans</td>\n",
       "      <td>3</td>\n",
       "      <td>3</td>\n",
       "      <td>17</td>\n",
       "      <td>289</td>\n",
       "      <td>17.0</td>\n",
       "      <td>80T</td>\n",
       "      <td>3</td>\n",
       "      <td>--</td>\n",
       "      <td>--</td>\n",
       "      <td>--</td>\n",
       "      <td>--</td>\n",
       "      <td>--</td>\n",
       "      <td>1</td>\n",
       "      <td>1</td>\n",
       "    </tr>\n",
       "    <tr>\n",
       "      <td>19</td>\n",
       "      <td>2010</td>\n",
       "      <td>Tennessee Titans</td>\n",
       "      <td>12</td>\n",
       "      <td>7</td>\n",
       "      <td>42</td>\n",
       "      <td>775</td>\n",
       "      <td>18.5</td>\n",
       "      <td>80T</td>\n",
       "      <td>9</td>\n",
       "      <td>--</td>\n",
       "      <td>--</td>\n",
       "      <td>--</td>\n",
       "      <td>--</td>\n",
       "      <td>--</td>\n",
       "      <td>1</td>\n",
       "      <td>1</td>\n",
       "    </tr>\n",
       "    <tr>\n",
       "      <td>21</td>\n",
       "      <td>2009</td>\n",
       "      <td>Tennessee Titans</td>\n",
       "      <td>16</td>\n",
       "      <td>6</td>\n",
       "      <td>42</td>\n",
       "      <td>701</td>\n",
       "      <td>16.7</td>\n",
       "      <td>57</td>\n",
       "      <td>3</td>\n",
       "      <td>--</td>\n",
       "      <td>--</td>\n",
       "      <td>--</td>\n",
       "      <td>--</td>\n",
       "      <td>--</td>\n",
       "      <td>1</td>\n",
       "      <td>1</td>\n",
       "    </tr>\n",
       "  </tbody>\n",
       "</table>\n",
       "</div>"
      ],
      "text/plain": [
       "   season                  team   g              gs comb  total   ast  sck  \\\n",
       "3    2017  New England Patriots   3               0    2     23  11.5   16   \n",
       "5    2017      Cleveland Browns   9               4   18    233  12.9   38   \n",
       "7    2016      Los Angeles Rams  15              15   68  1,002  14.7   66   \n",
       "9    2015        St. Louis Rams  16              14   36    681  18.9  60T   \n",
       "11   2014        St. Louis Rams  16              13   48    748  15.6  63T   \n",
       "13   2013      Tennessee Titans  12               3   11     96   8.7   15   \n",
       "15   2012      Tennessee Titans  14              11   45    589  13.1   46   \n",
       "17   2011      Tennessee Titans   3               3   17    289  17.0  80T   \n",
       "19   2010      Tennessee Titans  12               7   42    775  18.5  80T   \n",
       "21   2009      Tennessee Titans  16               6   42    701  16.7   57   \n",
       "\n",
       "   sfty pdef int  yds avg lng tds  ff  \n",
       "3     0   --  --   --  --  --  --  --  \n",
       "5     2   --  --   --  --  --  --  --  \n",
       "7     5   --  --   --  --  --   2   1  \n",
       "9     3   --  --   --  --  --  --  --  \n",
       "11    3    2  14  7.0  12   0  --  --  \n",
       "13    0   --  --   --  --  --  --  --  \n",
       "15    4   --  --   --  --  --   2   1  \n",
       "17    3   --  --   --  --  --   1   1  \n",
       "19    9   --  --   --  --  --   1   1  \n",
       "21    3   --  --   --  --  --   1   1  "
      ]
     },
     "execution_count": 58,
     "metadata": {},
     "output_type": "execute_result"
    }
   ],
   "source": [
    "KennyBritt"
   ]
  },
  {
   "cell_type": "markdown",
   "metadata": {
    "ExecuteTime": {
     "end_time": "2020-02-20T15:47:01.869252Z",
     "start_time": "2020-02-20T15:47:01.834146Z"
    },
    "heading_collapsed": true
   },
   "source": [
    "### Chris Henry"
   ]
  },
  {
   "cell_type": "code",
   "execution_count": 43,
   "metadata": {
    "ExecuteTime": {
     "end_time": "2020-02-20T16:19:10.274079Z",
     "start_time": "2020-02-20T16:19:10.266220Z"
    },
    "hidden": true
   },
   "outputs": [],
   "source": [
    "url = 'http://www.nfl.com/player/chrishenry/2506422/profile'"
   ]
  },
  {
   "cell_type": "code",
   "execution_count": 44,
   "metadata": {
    "ExecuteTime": {
     "end_time": "2020-02-20T16:20:27.283370Z",
     "start_time": "2020-02-20T16:20:24.058789Z"
    },
    "hidden": true
   },
   "outputs": [],
   "source": [
    "ChrisHenry = players_stats(url)"
   ]
  },
  {
   "cell_type": "code",
   "execution_count": 59,
   "metadata": {
    "ExecuteTime": {
     "end_time": "2020-02-20T16:44:14.846422Z",
     "start_time": "2020-02-20T16:44:14.804437Z"
    },
    "hidden": true
   },
   "outputs": [
    {
     "data": {
      "text/html": [
       "<div>\n",
       "<style scoped>\n",
       "    .dataframe tbody tr th:only-of-type {\n",
       "        vertical-align: middle;\n",
       "    }\n",
       "\n",
       "    .dataframe tbody tr th {\n",
       "        vertical-align: top;\n",
       "    }\n",
       "\n",
       "    .dataframe thead th {\n",
       "        text-align: right;\n",
       "    }\n",
       "</style>\n",
       "<table border=\"1\" class=\"dataframe\">\n",
       "  <thead>\n",
       "    <tr style=\"text-align: right;\">\n",
       "      <th></th>\n",
       "      <th>Season</th>\n",
       "      <th>Team</th>\n",
       "      <th>G</th>\n",
       "      <th>GS</th>\n",
       "      <th>Comb</th>\n",
       "      <th>Total</th>\n",
       "      <th>Ast</th>\n",
       "      <th>Sck</th>\n",
       "      <th>SFTY</th>\n",
       "      <th>PDef</th>\n",
       "      <th>Int</th>\n",
       "      <th>Yds</th>\n",
       "      <th>Avg</th>\n",
       "      <th>Lng</th>\n",
       "      <th>TDs</th>\n",
       "      <th>FF</th>\n",
       "      <th>Name</th>\n",
       "    </tr>\n",
       "  </thead>\n",
       "  <tbody>\n",
       "    <tr>\n",
       "      <td>3</td>\n",
       "      <td>2009</td>\n",
       "      <td>Cincinnati Bengals</td>\n",
       "      <td>8</td>\n",
       "      <td>0</td>\n",
       "      <td>12</td>\n",
       "      <td>236</td>\n",
       "      <td>19.7</td>\n",
       "      <td>73</td>\n",
       "      <td>2</td>\n",
       "      <td>--</td>\n",
       "      <td>--</td>\n",
       "      <td>--</td>\n",
       "      <td>--</td>\n",
       "      <td>--</td>\n",
       "      <td>--</td>\n",
       "      <td>--</td>\n",
       "      <td>Chris Henry</td>\n",
       "    </tr>\n",
       "    <tr>\n",
       "      <td>5</td>\n",
       "      <td>2008</td>\n",
       "      <td>Cincinnati Bengals</td>\n",
       "      <td>12</td>\n",
       "      <td>1</td>\n",
       "      <td>19</td>\n",
       "      <td>220</td>\n",
       "      <td>11.6</td>\n",
       "      <td>22</td>\n",
       "      <td>2</td>\n",
       "      <td>--</td>\n",
       "      <td>--</td>\n",
       "      <td>--</td>\n",
       "      <td>--</td>\n",
       "      <td>--</td>\n",
       "      <td>--</td>\n",
       "      <td>--</td>\n",
       "      <td>Chris Henry</td>\n",
       "    </tr>\n",
       "    <tr>\n",
       "      <td>7</td>\n",
       "      <td>2007</td>\n",
       "      <td>Cincinnati Bengals</td>\n",
       "      <td>8</td>\n",
       "      <td>2</td>\n",
       "      <td>21</td>\n",
       "      <td>343</td>\n",
       "      <td>16.3</td>\n",
       "      <td>52T</td>\n",
       "      <td>2</td>\n",
       "      <td>--</td>\n",
       "      <td>--</td>\n",
       "      <td>--</td>\n",
       "      <td>--</td>\n",
       "      <td>--</td>\n",
       "      <td>--</td>\n",
       "      <td>--</td>\n",
       "      <td>Chris Henry</td>\n",
       "    </tr>\n",
       "    <tr>\n",
       "      <td>9</td>\n",
       "      <td>2006</td>\n",
       "      <td>Cincinnati Bengals</td>\n",
       "      <td>13</td>\n",
       "      <td>4</td>\n",
       "      <td>36</td>\n",
       "      <td>605</td>\n",
       "      <td>16.8</td>\n",
       "      <td>71</td>\n",
       "      <td>9</td>\n",
       "      <td>--</td>\n",
       "      <td>--</td>\n",
       "      <td>--</td>\n",
       "      <td>--</td>\n",
       "      <td>--</td>\n",
       "      <td>--</td>\n",
       "      <td>--</td>\n",
       "      <td>Chris Henry</td>\n",
       "    </tr>\n",
       "    <tr>\n",
       "      <td>11</td>\n",
       "      <td>2005</td>\n",
       "      <td>Cincinnati Bengals</td>\n",
       "      <td>14</td>\n",
       "      <td>5</td>\n",
       "      <td>31</td>\n",
       "      <td>422</td>\n",
       "      <td>13.6</td>\n",
       "      <td>47</td>\n",
       "      <td>6</td>\n",
       "      <td>--</td>\n",
       "      <td>--</td>\n",
       "      <td>--</td>\n",
       "      <td>--</td>\n",
       "      <td>--</td>\n",
       "      <td>2</td>\n",
       "      <td>1</td>\n",
       "      <td>Chris Henry</td>\n",
       "    </tr>\n",
       "  </tbody>\n",
       "</table>\n",
       "</div>"
      ],
      "text/plain": [
       "   Season                Team   G             GS Comb Total   Ast  Sck SFTY  \\\n",
       "3    2009  Cincinnati Bengals   8              0   12   236  19.7   73    2   \n",
       "5    2008  Cincinnati Bengals  12              1   19   220  11.6   22    2   \n",
       "7    2007  Cincinnati Bengals   8              2   21   343  16.3  52T    2   \n",
       "9    2006  Cincinnati Bengals  13              4   36   605  16.8   71    9   \n",
       "11   2005  Cincinnati Bengals  14              5   31   422  13.6   47    6   \n",
       "\n",
       "   PDef Int Yds Avg Lng TDs  FF         Name  \n",
       "3    --  --  --  --  --  --  --  Chris Henry  \n",
       "5    --  --  --  --  --  --  --  Chris Henry  \n",
       "7    --  --  --  --  --  --  --  Chris Henry  \n",
       "9    --  --  --  --  --  --  --  Chris Henry  \n",
       "11   --  --  --  --  --   2   1  Chris Henry  "
      ]
     },
     "execution_count": 59,
     "metadata": {},
     "output_type": "execute_result"
    }
   ],
   "source": [
    "ChrisHenry"
   ]
  },
  {
   "cell_type": "markdown",
   "metadata": {},
   "source": [
    "## Resultados"
   ]
  },
  {
   "cell_type": "markdown",
   "metadata": {},
   "source": [
    "Exportamos los dos .csv"
   ]
  },
  {
   "cell_type": "markdown",
   "metadata": {
    "heading_collapsed": true
   },
   "source": [
    "### CSV API"
   ]
  },
  {
   "cell_type": "code",
   "execution_count": null,
   "metadata": {
    "hidden": true
   },
   "outputs": [],
   "source": [
    "NFLarrest.to_csv(\"../Datos/NFLarrest.csv\", index = False)"
   ]
  },
  {
   "cell_type": "markdown",
   "metadata": {
    "heading_collapsed": true
   },
   "source": [
    "### CSV Web"
   ]
  },
  {
   "cell_type": "markdown",
   "metadata": {
    "hidden": true
   },
   "source": [
    "Para poder unir los dataframes de los diferentes jugadores hemos añadido otra columna con los nombres."
   ]
  },
  {
   "cell_type": "code",
   "execution_count": 46,
   "metadata": {
    "ExecuteTime": {
     "end_time": "2020-02-20T16:21:11.543640Z",
     "start_time": "2020-02-20T16:21:11.523896Z"
    },
    "hidden": true
   },
   "outputs": [],
   "source": [
    "AdamJones['Name'] = \"Adam Jones\"\n",
    "KennyBritt['Name'] = \"Kenny Britt\"\n",
    "ChrisHenry['Name'] = \"Chris Henry\""
   ]
  },
  {
   "cell_type": "code",
   "execution_count": 47,
   "metadata": {
    "ExecuteTime": {
     "end_time": "2020-02-20T16:22:08.685424Z",
     "start_time": "2020-02-20T16:22:08.675912Z"
    },
    "hidden": true
   },
   "outputs": [],
   "source": [
    "BadPlayersStats = pd.concat([AdamJones, KennyBritt, ChrisHenry])"
   ]
  },
  {
   "cell_type": "code",
   "execution_count": 49,
   "metadata": {
    "ExecuteTime": {
     "end_time": "2020-02-20T16:23:12.993049Z",
     "start_time": "2020-02-20T16:23:12.984077Z"
    },
    "hidden": true
   },
   "outputs": [],
   "source": [
    "BadPlayersStats.to_csv(\"../Datos/BadPlayersStats.csv\", index = False)"
   ]
  }
 ],
 "metadata": {
  "kernelspec": {
   "display_name": "Python 3",
   "language": "python",
   "name": "python3"
  },
  "language_info": {
   "codemirror_mode": {
    "name": "ipython",
    "version": 3
   },
   "file_extension": ".py",
   "mimetype": "text/x-python",
   "name": "python",
   "nbconvert_exporter": "python",
   "pygments_lexer": "ipython3",
   "version": "3.7.4"
  },
  "toc": {
   "base_numbering": 1,
   "nav_menu": {},
   "number_sections": true,
   "sideBar": true,
   "skip_h1_title": false,
   "title_cell": "Table of Contents",
   "title_sidebar": "Contents",
   "toc_cell": false,
   "toc_position": {},
   "toc_section_display": true,
   "toc_window_display": false
  },
  "varInspector": {
   "cols": {
    "lenName": 16,
    "lenType": 16,
    "lenVar": 40
   },
   "kernels_config": {
    "python": {
     "delete_cmd_postfix": "",
     "delete_cmd_prefix": "del ",
     "library": "var_list.py",
     "varRefreshCmd": "print(var_dic_list())"
    },
    "r": {
     "delete_cmd_postfix": ") ",
     "delete_cmd_prefix": "rm(",
     "library": "var_list.r",
     "varRefreshCmd": "cat(var_dic_list()) "
    }
   },
   "types_to_exclude": [
    "module",
    "function",
    "builtin_function_or_method",
    "instance",
    "_Feature"
   ],
   "window_display": false
  }
 },
 "nbformat": 4,
 "nbformat_minor": 2
}
